{
 "cells": [
  {
   "cell_type": "code",
   "execution_count": 1,
   "metadata": {},
   "outputs": [],
   "source": [
    "import pandas as pd\n",
    "import matplotlib\n",
    "%matplotlib inline \n",
    "import numpy as np"
   ]
  },
  {
   "cell_type": "code",
   "execution_count": 3,
   "metadata": {},
   "outputs": [],
   "source": [
    "### Data transformation from previous notebooks\n",
    "nyc = pd.read_csv('data/central-park-raw.csv', parse_dates=[0])\n",
    "nyc.columns = [x.strip() for x in nyc.columns]\n",
    "nyc.columns = [x.replace(' ', '_') for x in nyc.columns]\n",
    "nyc.PrecipitationIn.replace(\"T\", '0.001')\n",
    "nyc.PrecipitationIn = pd.to_numeric(nyc.PrecipitationIn.replace(\"T\", '0.001'))\n",
    "nyc['Events'] = nyc.Events.fillna('')"
   ]
  },
  {
   "cell_type": "markdown",
   "metadata": {},
   "source": [
    "# Basic Stats\n",
    "\n",
    "A nice feature of pandas is that you can quickly inspect data and get summary statistics."
   ]
  },
  {
   "cell_type": "code",
   "execution_count": 4,
   "metadata": {},
   "outputs": [
    {
     "data": {
      "text/html": [
       "<div>\n",
       "<style scoped>\n",
       "    .dataframe tbody tr th:only-of-type {\n",
       "        vertical-align: middle;\n",
       "    }\n",
       "\n",
       "    .dataframe tbody tr th {\n",
       "        vertical-align: top;\n",
       "    }\n",
       "\n",
       "    .dataframe thead th {\n",
       "        text-align: right;\n",
       "    }\n",
       "</style>\n",
       "<table border=\"1\" class=\"dataframe\">\n",
       "  <thead>\n",
       "    <tr style=\"text-align: right;\">\n",
       "      <th></th>\n",
       "      <th>Max_TemperatureF</th>\n",
       "      <th>Mean_TemperatureF</th>\n",
       "      <th>Min_TemperatureF</th>\n",
       "      <th>Max_Dew_PointF</th>\n",
       "      <th>MeanDew_PointF</th>\n",
       "      <th>Min_DewpointF</th>\n",
       "      <th>Max_Humidity</th>\n",
       "      <th>Mean_Humidity</th>\n",
       "      <th>Min_Humidity</th>\n",
       "      <th>Max_Sea_Level_PressureIn</th>\n",
       "      <th>...</th>\n",
       "      <th>Min_Sea_Level_PressureIn</th>\n",
       "      <th>Max_VisibilityMiles</th>\n",
       "      <th>Mean_VisibilityMiles</th>\n",
       "      <th>Min_VisibilityMiles</th>\n",
       "      <th>Max_Wind_SpeedMPH</th>\n",
       "      <th>Mean_Wind_SpeedMPH</th>\n",
       "      <th>Max_Gust_SpeedMPH</th>\n",
       "      <th>PrecipitationIn</th>\n",
       "      <th>CloudCover</th>\n",
       "      <th>WindDirDegrees</th>\n",
       "    </tr>\n",
       "  </thead>\n",
       "  <tbody>\n",
       "    <tr>\n",
       "      <th>count</th>\n",
       "      <td>3285.000000</td>\n",
       "      <td>3285.000000</td>\n",
       "      <td>3285.000000</td>\n",
       "      <td>3285.000000</td>\n",
       "      <td>3285.000000</td>\n",
       "      <td>3285.000000</td>\n",
       "      <td>3285.000000</td>\n",
       "      <td>3285.000000</td>\n",
       "      <td>3285.000000</td>\n",
       "      <td>3275.000000</td>\n",
       "      <td>...</td>\n",
       "      <td>3275.000000</td>\n",
       "      <td>3277.000000</td>\n",
       "      <td>3277.000000</td>\n",
       "      <td>3277.000000</td>\n",
       "      <td>3245.000000</td>\n",
       "      <td>3244.000000</td>\n",
       "      <td>3177.000000</td>\n",
       "      <td>3286.000000</td>\n",
       "      <td>3277.000000</td>\n",
       "      <td>3285.000000</td>\n",
       "    </tr>\n",
       "    <tr>\n",
       "      <th>mean</th>\n",
       "      <td>62.930898</td>\n",
       "      <td>56.042314</td>\n",
       "      <td>48.701674</td>\n",
       "      <td>47.334855</td>\n",
       "      <td>41.676712</td>\n",
       "      <td>35.374125</td>\n",
       "      <td>78.707458</td>\n",
       "      <td>62.108676</td>\n",
       "      <td>45.009132</td>\n",
       "      <td>30.113740</td>\n",
       "      <td>...</td>\n",
       "      <td>29.900043</td>\n",
       "      <td>9.939274</td>\n",
       "      <td>8.663717</td>\n",
       "      <td>6.523955</td>\n",
       "      <td>14.487827</td>\n",
       "      <td>5.826449</td>\n",
       "      <td>22.755430</td>\n",
       "      <td>0.148832</td>\n",
       "      <td>3.231614</td>\n",
       "      <td>193.028919</td>\n",
       "    </tr>\n",
       "    <tr>\n",
       "      <th>std</th>\n",
       "      <td>18.006236</td>\n",
       "      <td>16.953644</td>\n",
       "      <td>16.303976</td>\n",
       "      <td>17.901201</td>\n",
       "      <td>18.706095</td>\n",
       "      <td>19.586057</td>\n",
       "      <td>15.652513</td>\n",
       "      <td>14.548359</td>\n",
       "      <td>15.901280</td>\n",
       "      <td>0.209992</td>\n",
       "      <td>...</td>\n",
       "      <td>0.239583</td>\n",
       "      <td>0.406343</td>\n",
       "      <td>2.041796</td>\n",
       "      <td>3.910295</td>\n",
       "      <td>4.355743</td>\n",
       "      <td>2.996004</td>\n",
       "      <td>7.064674</td>\n",
       "      <td>0.432399</td>\n",
       "      <td>2.745582</td>\n",
       "      <td>104.107605</td>\n",
       "    </tr>\n",
       "    <tr>\n",
       "      <th>min</th>\n",
       "      <td>16.000000</td>\n",
       "      <td>12.000000</td>\n",
       "      <td>4.000000</td>\n",
       "      <td>-8.000000</td>\n",
       "      <td>-12.000000</td>\n",
       "      <td>-16.000000</td>\n",
       "      <td>28.000000</td>\n",
       "      <td>20.000000</td>\n",
       "      <td>6.000000</td>\n",
       "      <td>29.260000</td>\n",
       "      <td>...</td>\n",
       "      <td>28.530000</td>\n",
       "      <td>5.000000</td>\n",
       "      <td>1.000000</td>\n",
       "      <td>0.000000</td>\n",
       "      <td>3.000000</td>\n",
       "      <td>0.000000</td>\n",
       "      <td>5.000000</td>\n",
       "      <td>0.000000</td>\n",
       "      <td>0.000000</td>\n",
       "      <td>-1.000000</td>\n",
       "    </tr>\n",
       "    <tr>\n",
       "      <th>25%</th>\n",
       "      <td>48.000000</td>\n",
       "      <td>42.000000</td>\n",
       "      <td>36.000000</td>\n",
       "      <td>34.000000</td>\n",
       "      <td>27.000000</td>\n",
       "      <td>20.000000</td>\n",
       "      <td>67.000000</td>\n",
       "      <td>51.000000</td>\n",
       "      <td>34.000000</td>\n",
       "      <td>29.970000</td>\n",
       "      <td>...</td>\n",
       "      <td>29.760000</td>\n",
       "      <td>10.000000</td>\n",
       "      <td>8.000000</td>\n",
       "      <td>2.000000</td>\n",
       "      <td>12.000000</td>\n",
       "      <td>4.000000</td>\n",
       "      <td>18.000000</td>\n",
       "      <td>0.000000</td>\n",
       "      <td>1.000000</td>\n",
       "      <td>78.000000</td>\n",
       "    </tr>\n",
       "    <tr>\n",
       "      <th>50%</th>\n",
       "      <td>64.000000</td>\n",
       "      <td>57.000000</td>\n",
       "      <td>49.000000</td>\n",
       "      <td>50.000000</td>\n",
       "      <td>43.000000</td>\n",
       "      <td>36.000000</td>\n",
       "      <td>80.000000</td>\n",
       "      <td>62.000000</td>\n",
       "      <td>43.000000</td>\n",
       "      <td>30.100000</td>\n",
       "      <td>...</td>\n",
       "      <td>29.910000</td>\n",
       "      <td>10.000000</td>\n",
       "      <td>10.000000</td>\n",
       "      <td>9.000000</td>\n",
       "      <td>14.000000</td>\n",
       "      <td>5.000000</td>\n",
       "      <td>22.000000</td>\n",
       "      <td>0.000000</td>\n",
       "      <td>3.000000</td>\n",
       "      <td>236.000000</td>\n",
       "    </tr>\n",
       "    <tr>\n",
       "      <th>75%</th>\n",
       "      <td>79.000000</td>\n",
       "      <td>71.000000</td>\n",
       "      <td>63.000000</td>\n",
       "      <td>63.000000</td>\n",
       "      <td>58.000000</td>\n",
       "      <td>52.000000</td>\n",
       "      <td>93.000000</td>\n",
       "      <td>73.000000</td>\n",
       "      <td>54.000000</td>\n",
       "      <td>30.250000</td>\n",
       "      <td>...</td>\n",
       "      <td>30.060000</td>\n",
       "      <td>10.000000</td>\n",
       "      <td>10.000000</td>\n",
       "      <td>10.000000</td>\n",
       "      <td>17.000000</td>\n",
       "      <td>7.000000</td>\n",
       "      <td>26.000000</td>\n",
       "      <td>0.050000</td>\n",
       "      <td>6.000000</td>\n",
       "      <td>279.000000</td>\n",
       "    </tr>\n",
       "    <tr>\n",
       "      <th>max</th>\n",
       "      <td>104.000000</td>\n",
       "      <td>94.000000</td>\n",
       "      <td>84.000000</td>\n",
       "      <td>77.000000</td>\n",
       "      <td>75.000000</td>\n",
       "      <td>72.000000</td>\n",
       "      <td>100.000000</td>\n",
       "      <td>97.000000</td>\n",
       "      <td>93.000000</td>\n",
       "      <td>30.770000</td>\n",
       "      <td>...</td>\n",
       "      <td>30.590000</td>\n",
       "      <td>10.000000</td>\n",
       "      <td>10.000000</td>\n",
       "      <td>10.000000</td>\n",
       "      <td>99.000000</td>\n",
       "      <td>99.000000</td>\n",
       "      <td>137.000000</td>\n",
       "      <td>7.570000</td>\n",
       "      <td>8.000000</td>\n",
       "      <td>360.000000</td>\n",
       "    </tr>\n",
       "  </tbody>\n",
       "</table>\n",
       "<p>8 rows × 21 columns</p>\n",
       "</div>"
      ],
      "text/plain": [
       "       Max_TemperatureF  Mean_TemperatureF  Min_TemperatureF  Max_Dew_PointF  \\\n",
       "count       3285.000000        3285.000000       3285.000000     3285.000000   \n",
       "mean          62.930898          56.042314         48.701674       47.334855   \n",
       "std           18.006236          16.953644         16.303976       17.901201   \n",
       "min           16.000000          12.000000          4.000000       -8.000000   \n",
       "25%           48.000000          42.000000         36.000000       34.000000   \n",
       "50%           64.000000          57.000000         49.000000       50.000000   \n",
       "75%           79.000000          71.000000         63.000000       63.000000   \n",
       "max          104.000000          94.000000         84.000000       77.000000   \n",
       "\n",
       "       MeanDew_PointF  Min_DewpointF  Max_Humidity  Mean_Humidity  \\\n",
       "count     3285.000000    3285.000000   3285.000000    3285.000000   \n",
       "mean        41.676712      35.374125     78.707458      62.108676   \n",
       "std         18.706095      19.586057     15.652513      14.548359   \n",
       "min        -12.000000     -16.000000     28.000000      20.000000   \n",
       "25%         27.000000      20.000000     67.000000      51.000000   \n",
       "50%         43.000000      36.000000     80.000000      62.000000   \n",
       "75%         58.000000      52.000000     93.000000      73.000000   \n",
       "max         75.000000      72.000000    100.000000      97.000000   \n",
       "\n",
       "       Min_Humidity  Max_Sea_Level_PressureIn       ...        \\\n",
       "count   3285.000000               3275.000000       ...         \n",
       "mean      45.009132                 30.113740       ...         \n",
       "std       15.901280                  0.209992       ...         \n",
       "min        6.000000                 29.260000       ...         \n",
       "25%       34.000000                 29.970000       ...         \n",
       "50%       43.000000                 30.100000       ...         \n",
       "75%       54.000000                 30.250000       ...         \n",
       "max       93.000000                 30.770000       ...         \n",
       "\n",
       "       Min_Sea_Level_PressureIn  Max_VisibilityMiles  Mean_VisibilityMiles  \\\n",
       "count               3275.000000          3277.000000           3277.000000   \n",
       "mean                  29.900043             9.939274              8.663717   \n",
       "std                    0.239583             0.406343              2.041796   \n",
       "min                   28.530000             5.000000              1.000000   \n",
       "25%                   29.760000            10.000000              8.000000   \n",
       "50%                   29.910000            10.000000             10.000000   \n",
       "75%                   30.060000            10.000000             10.000000   \n",
       "max                   30.590000            10.000000             10.000000   \n",
       "\n",
       "       Min_VisibilityMiles  Max_Wind_SpeedMPH  Mean_Wind_SpeedMPH  \\\n",
       "count          3277.000000        3245.000000         3244.000000   \n",
       "mean              6.523955          14.487827            5.826449   \n",
       "std               3.910295           4.355743            2.996004   \n",
       "min               0.000000           3.000000            0.000000   \n",
       "25%               2.000000          12.000000            4.000000   \n",
       "50%               9.000000          14.000000            5.000000   \n",
       "75%              10.000000          17.000000            7.000000   \n",
       "max              10.000000          99.000000           99.000000   \n",
       "\n",
       "       Max_Gust_SpeedMPH  PrecipitationIn   CloudCover  WindDirDegrees  \n",
       "count        3177.000000      3286.000000  3277.000000     3285.000000  \n",
       "mean           22.755430         0.148832     3.231614      193.028919  \n",
       "std             7.064674         0.432399     2.745582      104.107605  \n",
       "min             5.000000         0.000000     0.000000       -1.000000  \n",
       "25%            18.000000         0.000000     1.000000       78.000000  \n",
       "50%            22.000000         0.000000     3.000000      236.000000  \n",
       "75%            26.000000         0.050000     6.000000      279.000000  \n",
       "max           137.000000         7.570000     8.000000      360.000000  \n",
       "\n",
       "[8 rows x 21 columns]"
      ]
     },
     "execution_count": 4,
     "metadata": {},
     "output_type": "execute_result"
    }
   ],
   "source": [
    "# The describe method gives us basic stats. The result is a Data Frame\n",
    "nyc.describe()"
   ]
  },
  {
   "cell_type": "code",
   "execution_count": null,
   "metadata": {
    "collapsed": true
   },
   "outputs": [],
   "source": [
    "# Remember transpose\n",
    "nyc.describe().T\n"
   ]
  },
  {
   "cell_type": "code",
   "execution_count": null,
   "metadata": {
    "collapsed": true
   },
   "outputs": [],
   "source": [
    "# to view non-numeric data pass include='all'\n",
    "nyc.describe(include='all').T"
   ]
  },
  {
   "cell_type": "code",
   "execution_count": 5,
   "metadata": {},
   "outputs": [
    {
     "data": {
      "text/plain": [
       "100.0"
      ]
     },
     "execution_count": 5,
     "metadata": {},
     "output_type": "execute_result"
    }
   ],
   "source": [
    "# Various aggregation methods (max, mean, median, min, mad, skew, kurtosis, autocorr,\n",
    "#   nunique, sem, std, var)\n",
    "# and properties (hasnans, is_monotonic, is_unique)\n",
    "nyc.Max_Humidity.max()"
   ]
  },
  {
   "cell_type": "code",
   "execution_count": 6,
   "metadata": {},
   "outputs": [
    {
     "data": {
      "text/plain": [
       "64.0"
      ]
     },
     "execution_count": 6,
     "metadata": {},
     "output_type": "execute_result"
    }
   ],
   "source": [
    "nyc.Max_Humidity.quantile(.2)"
   ]
  },
  {
   "cell_type": "code",
   "execution_count": null,
   "metadata": {
    "collapsed": true
   },
   "outputs": [],
   "source": [
    "nyc.Max_Humidity.quantile([.2,.3])"
   ]
  },
  {
   "cell_type": "code",
   "execution_count": null,
   "metadata": {
    "collapsed": true
   },
   "outputs": [],
   "source": [
    "nyc.Max_Humidity.min()"
   ]
  },
  {
   "cell_type": "code",
   "execution_count": null,
   "metadata": {
    "collapsed": true
   },
   "outputs": [],
   "source": [
    "nyc.Mean_Humidity.corr(nyc.Mean_TemperatureF)"
   ]
  },
  {
   "cell_type": "markdown",
   "metadata": {},
   "source": [
    "## Basic Stats Assignment\n",
    "With the nino dataset:\n",
    "\n",
    "* *Describe* the data\n",
    "* Choose a column\n",
    "  * Print out the max, min, and mean\n",
    "* Correlate (``corr``) the temperature column with the date column (might need to use ``.astype('int64')`` method)"
   ]
  },
  {
   "cell_type": "code",
   "execution_count": null,
   "metadata": {
    "collapsed": true
   },
   "outputs": [],
   "source": []
  },
  {
   "cell_type": "code",
   "execution_count": null,
   "metadata": {
    "collapsed": true
   },
   "outputs": [],
   "source": []
  },
  {
   "cell_type": "markdown",
   "metadata": {},
   "source": [
    "## Basic Stats Extra\n",
    "* use the ``scatter_matrix`` function in ``pandas.plotting`` to create a correlation matrix (note this might take tens of seconds to run)"
   ]
  },
  {
   "cell_type": "code",
   "execution_count": null,
   "metadata": {
    "collapsed": true,
    "scrolled": false
   },
   "outputs": [],
   "source": [
    "pd.plotting.scatter_matrix(nino)"
   ]
  },
  {
   "cell_type": "markdown",
   "metadata": {},
   "source": [
    "# Plotting\n",
    "\n",
    "Pandas has built-in integration with Matplotlib. Other libraries such as Seaborn also support plotting DataFrames and Series. This is not an in depth intro to Matplotlib, but their website and gallery are great for finding more information"
   ]
  },
  {
   "cell_type": "code",
   "execution_count": null,
   "metadata": {
    "collapsed": true,
    "scrolled": true
   },
   "outputs": [],
   "source": [
    "# histograms are a quick way to visualize the distribution\n",
    "nyc.Mean_Humidity.hist()"
   ]
  },
  {
   "cell_type": "code",
   "execution_count": null,
   "metadata": {
    "collapsed": true,
    "scrolled": false
   },
   "outputs": [],
   "source": [
    "# add in figsize=(width,height) to boost size\n",
    "nyc.Mean_Humidity.hist(figsize=(14, 10))"
   ]
  },
  {
   "cell_type": "code",
   "execution_count": null,
   "metadata": {
    "collapsed": true,
    "scrolled": false
   },
   "outputs": [],
   "source": [
    "# If we use the .plot method we can add title and other attributes\n",
    "nyc.Mean_Humidity.plot(kind='hist', title='Avg Humidity', figsize=(14, 10))"
   ]
  },
  {
   "cell_type": "code",
   "execution_count": null,
   "metadata": {
    "collapsed": true
   },
   "outputs": [],
   "source": []
  },
  {
   "cell_type": "code",
   "execution_count": null,
   "metadata": {
    "collapsed": true
   },
   "outputs": [],
   "source": [
    "nyc.plot(x='EST', y='Mean_Humidity')"
   ]
  },
  {
   "cell_type": "code",
   "execution_count": null,
   "metadata": {
    "collapsed": true
   },
   "outputs": [],
   "source": [
    "nyc.plot(x='EST', y='Mean_Humidity', figsize=(12, 8) )"
   ]
  },
  {
   "cell_type": "code",
   "execution_count": null,
   "metadata": {
    "collapsed": true
   },
   "outputs": [],
   "source": [
    "# Can resample columns, since our index is a date we can use *Offset Aliases*\n",
    "# see http://pandas.pydata.org/pandas-docs/stable/timeseries.html#offset-aliases\n",
    "nyc.set_index('EST').Mean_Humidity.resample('M').mean().plot(figsize=(10, 6)) "
   ]
  },
  {
   "cell_type": "code",
   "execution_count": null,
   "metadata": {
    "collapsed": true
   },
   "outputs": [],
   "source": [
    "# Can resample columns, since our index is a date we can use *Offset Aliases*\n",
    "# see http://pandas.pydata.org/pandas-docs/stable/timeseries.html#offset-aliases\n",
    "nyc.set_index('EST').Mean_Humidity.resample('2W').mean().plot(figsize=(10, 6)) "
   ]
  },
  {
   "cell_type": "code",
   "execution_count": null,
   "metadata": {
    "collapsed": true
   },
   "outputs": [],
   "source": [
    "# Plot all the things (may be useful or just art)\n",
    "nyc.set_index('EST').plot(figsize=(12,8))"
   ]
  },
  {
   "cell_type": "code",
   "execution_count": null,
   "metadata": {
    "collapsed": true
   },
   "outputs": [],
   "source": [
    "nyc.plot(x='Max_TemperatureF', y='Max_Humidity', kind='scatter', alpha=.5, \n",
    "        figsize=(10, 8))"
   ]
  },
  {
   "cell_type": "code",
   "execution_count": null,
   "metadata": {
    "collapsed": true
   },
   "outputs": [],
   "source": [
    "nyc.Max_TemperatureF.corr(nyc.Max_Humidity)"
   ]
  },
  {
   "cell_type": "markdown",
   "metadata": {},
   "source": [
    "## Plotting Assignment\n",
    "With the nino dataset:\n",
    "* Plot a histogram of air temp\n",
    "* Plot a scatter plot of latitude and longitude\n"
   ]
  },
  {
   "cell_type": "code",
   "execution_count": null,
   "metadata": {
    "collapsed": true
   },
   "outputs": [],
   "source": []
  },
  {
   "cell_type": "code",
   "execution_count": null,
   "metadata": {
    "collapsed": true
   },
   "outputs": [],
   "source": []
  },
  {
   "cell_type": "code",
   "execution_count": null,
   "metadata": {
    "collapsed": true
   },
   "outputs": [],
   "source": []
  },
  {
   "cell_type": "markdown",
   "metadata": {},
   "source": [
    "# Filtering"
   ]
  },
  {
   "cell_type": "code",
   "execution_count": null,
   "metadata": {
    "collapsed": true
   },
   "outputs": [],
   "source": [
    "# When we apply a conditional operator to a series we get back a series of True/False values\n",
    "# We call this a \"mask\", which we can use to filter (similar to Photoshop)\n",
    "# all EST in 2000's\n",
    "m2000 = nyc.EST.dt.year >= 2000\n",
    "\n",
    "# below 2010\n",
    "lt2010 = nyc.EST.dt.year < 2010\n",
    "\n"
   ]
  },
  {
   "cell_type": "code",
   "execution_count": null,
   "metadata": {
    "collapsed": true
   },
   "outputs": [],
   "source": [
    "# The \"and\" operation looks at whether the operands are truthy or falsey\n",
    "# This is a case where normal Python syntax doesn't work\n",
    "nyc[m2000 and lt2010]"
   ]
  },
  {
   "cell_type": "code",
   "execution_count": null,
   "metadata": {
    "collapsed": true,
    "scrolled": true
   },
   "outputs": [],
   "source": [
    "# & does bitwise comparisons - which is what we want\n",
    "nyc[m2000 & lt2010]"
   ]
  },
  {
   "cell_type": "code",
   "execution_count": null,
   "metadata": {
    "collapsed": true
   },
   "outputs": [],
   "source": [
    "# beware if you embed the operations, the bitwise operator binds more tightly to the integers\n",
    "nyc[nyc.EST.dt.year >= 2000 & nyc.EST.dt.year < 2010]"
   ]
  },
  {
   "cell_type": "code",
   "execution_count": null,
   "metadata": {
    "collapsed": true
   },
   "outputs": [],
   "source": [
    "# beware if you embed the operations, the bitwise operator binds more tightly to the integers\n",
    "nyc[(nyc.EST.dt.year >= 2000) & (nyc.EST.dt.year < 2010)]"
   ]
  },
  {
   "cell_type": "code",
   "execution_count": null,
   "metadata": {
    "collapsed": true
   },
   "outputs": [],
   "source": [
    "m_dec = nyc.EST.dt.month == 12\n",
    "nyc[m_dec]"
   ]
  },
  {
   "cell_type": "code",
   "execution_count": null,
   "metadata": {
    "collapsed": true
   },
   "outputs": [],
   "source": [
    "# Can use loc to filter out based on index value, also takes a boolean index\n",
    "# In fact, you should use .loc instead as a matter of habit (you won't see warnings)\n",
    "nyc.loc[m_dec]"
   ]
  },
  {
   "cell_type": "code",
   "execution_count": null,
   "metadata": {
    "collapsed": true,
    "scrolled": true
   },
   "outputs": [],
   "source": [
    "# Can use loc to filter out based on index value, also takes a boolean index\n",
    "# 2nd option in index op is column names (: to include everything)\n",
    "nyc.loc[m_dec, [x for x in nyc.columns if 'Max' in x]]"
   ]
  },
  {
   "cell_type": "code",
   "execution_count": null,
   "metadata": {
    "collapsed": true
   },
   "outputs": [],
   "source": [
    "# loc note:\n",
    "# can use set_index and sort_index to do quick lookups (if you sort you get quick lookups)\n",
    "nyc.set_index('Events').sort_index().head()"
   ]
  },
  {
   "cell_type": "code",
   "execution_count": null,
   "metadata": {
    "collapsed": true
   },
   "outputs": [],
   "source": [
    "nyc.set_index('Events').sort_index().loc['Fog']"
   ]
  },
  {
   "cell_type": "code",
   "execution_count": null,
   "metadata": {
    "collapsed": true
   },
   "outputs": [],
   "source": [
    "# Can use iloc to filter out based on index location (or position)\n",
    "# 2nd option in index op is column indices\n",
    "nyc.iloc[5:10, [2, 5, -2]]  \n"
   ]
  },
  {
   "cell_type": "code",
   "execution_count": null,
   "metadata": {
    "collapsed": true,
    "scrolled": true
   },
   "outputs": [],
   "source": [
    "# Can use iloc to filter out based on index location\n",
    "# 2nd option in index op is column indices\n",
    "nyc.iloc[:, [2, 5, -2]]  \n"
   ]
  },
  {
   "cell_type": "code",
   "execution_count": null,
   "metadata": {
    "collapsed": true
   },
   "outputs": [],
   "source": [
    "nyc.EST.describe()"
   ]
  },
  {
   "cell_type": "markdown",
   "metadata": {},
   "source": [
    "## Filtering Assignment\n",
    "Using the nino dataframe:\n",
    "* Create a mask, ``m80``, that all years >= 1980 and < 1990\n",
    "* Create a mask, ``m90``, that all years >= 1990 and < 2000\n",
    "* Create a mask, ``lon120``, that has all longitudes > 120\n",
    "* Create a mask, ``lat0``, that has latitudes > -2 and < 2\n",
    "* Create a dataframe, ``df80``, that has only those values in ``m80`` and ``lon120`` and ``lat0``\n",
    "* Create a dataframe, ``df90``, that has only those values in ``m90`` and ``lon120`` and ``lat0``\n"
   ]
  },
  {
   "cell_type": "code",
   "execution_count": null,
   "metadata": {
    "collapsed": true
   },
   "outputs": [],
   "source": []
  },
  {
   "cell_type": "code",
   "execution_count": null,
   "metadata": {
    "collapsed": true
   },
   "outputs": [],
   "source": []
  },
  {
   "cell_type": "markdown",
   "metadata": {},
   "source": [
    "## Filtering Bonus Assignment\n",
    "* Create a mask, ``m80_2``, that uses a function to filter years >= 1980 and < 1990\n",
    "* Make sure that ``m80`` is created using operations\n",
    "* Use the ``%%time`` *cell magic* to determine which is faster to calculate, ``m80`` or ``m80_2``"
   ]
  },
  {
   "cell_type": "code",
   "execution_count": null,
   "metadata": {
    "collapsed": true
   },
   "outputs": [],
   "source": []
  },
  {
   "cell_type": "code",
   "execution_count": null,
   "metadata": {
    "collapsed": true
   },
   "outputs": [],
   "source": []
  },
  {
   "cell_type": "markdown",
   "metadata": {},
   "source": [
    "# Dealing with NaN"
   ]
  },
  {
   "cell_type": "code",
   "execution_count": null,
   "metadata": {
    "collapsed": true,
    "scrolled": true
   },
   "outputs": [],
   "source": [
    "# find rows that have null data\n",
    "# fish create a mask\n",
    "nyc.isnull().any(axis=1)"
   ]
  },
  {
   "cell_type": "code",
   "execution_count": null,
   "metadata": {
    "collapsed": true
   },
   "outputs": [],
   "source": [
    "nyc[nyc.isnull().any(axis=1)]"
   ]
  },
  {
   "cell_type": "code",
   "execution_count": null,
   "metadata": {
    "collapsed": true,
    "scrolled": true
   },
   "outputs": [],
   "source": [
    "# Find columns with null values\n",
    "nyc.isnull()"
   ]
  },
  {
   "cell_type": "code",
   "execution_count": null,
   "metadata": {
    "collapsed": true
   },
   "outputs": [],
   "source": [
    "# Find columns with null values\n",
    "nyc.isnull().any()"
   ]
  },
  {
   "cell_type": "code",
   "execution_count": null,
   "metadata": {
    "collapsed": true
   },
   "outputs": [],
   "source": [
    "missing_df = nyc.isnull() \n",
    "nyc[missing_df.Max_TemperatureF]"
   ]
  },
  {
   "cell_type": "code",
   "execution_count": null,
   "metadata": {
    "collapsed": true
   },
   "outputs": [],
   "source": [
    "nyc.Max_TemperatureF.fillna(nyc.Max_TemperatureF.mean()).iloc[2219:2222]"
   ]
  },
  {
   "cell_type": "code",
   "execution_count": null,
   "metadata": {
    "collapsed": true
   },
   "outputs": [],
   "source": [
    "# The .interpolate method will do linear interpolation by default\n",
    "nyc.Max_TemperatureF.interpolate().iloc[2219:2222]"
   ]
  },
  {
   "cell_type": "code",
   "execution_count": null,
   "metadata": {
    "collapsed": true,
    "scrolled": true
   },
   "outputs": [],
   "source": [
    "#dropping rows with missing data\n",
    "nyc.dropna()"
   ]
  },
  {
   "cell_type": "markdown",
   "metadata": {},
   "source": [
    "## Dealing with NaN Assignment\n",
    "With the nino dataset:\n",
    "* Find the rows that have null data\n",
    "* Find the columns that have null data\n",
    "* It looks like the ``zon_winds`` has some missing values, use summary stats or plotting to determine how to fill in those values"
   ]
  },
  {
   "cell_type": "code",
   "execution_count": null,
   "metadata": {
    "collapsed": true
   },
   "outputs": [],
   "source": []
  },
  {
   "cell_type": "code",
   "execution_count": null,
   "metadata": {
    "collapsed": true
   },
   "outputs": [],
   "source": []
  },
  {
   "cell_type": "code",
   "execution_count": null,
   "metadata": {
    "collapsed": true
   },
   "outputs": [],
   "source": []
  }
 ],
 "metadata": {
  "kernelspec": {
   "display_name": "Python 3",
   "language": "python",
   "name": "python3"
  },
  "language_info": {
   "codemirror_mode": {
    "name": "ipython",
    "version": 3
   },
   "file_extension": ".py",
   "mimetype": "text/x-python",
   "name": "python",
   "nbconvert_exporter": "python",
   "pygments_lexer": "ipython3",
   "version": "3.7.1"
  }
 },
 "nbformat": 4,
 "nbformat_minor": 2
}
